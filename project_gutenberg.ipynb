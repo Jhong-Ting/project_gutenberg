{
 "cells": [
  {
   "cell_type": "code",
   "execution_count": null,
   "id": "996ab66b",
   "metadata": {},
   "outputs": [],
   "source": [
    "import os\n",
    "import re\n",
    "import time\n",
    "import requests\n",
    "from bs4 import BeautifulSoup\n",
    "from time import sleep"
   ]
  },
  {
   "cell_type": "code",
   "execution_count": null,
   "id": "25d95d90",
   "metadata": {},
   "outputs": [],
   "source": [
    "folder = r\"C:\\python_web_scraping_homework\\project_gutenberg\"\n",
    "os.makedirs(folder, exist_ok=True)"
   ]
  },
  {
   "cell_type": "code",
   "execution_count": null,
   "id": "2cb480e6",
   "metadata": {},
   "outputs": [],
   "source": [
    "def extract_book_body(text, title):\n",
    "    pattern = rf\"\\*\\*\\* START OF THE PROJECT GUTENBERG EBOOK {title} \\*\\*\\*(.*?)\\*\\*\\* END OF THE PROJECT GUTENBERG EBOOK {title} \\*\\*\\*\"\n",
    "    match = re.search(pattern, text, flags=re.DOTALL | re.IGNORECASE)\n",
    "    if not match:\n",
    "        return \"\"\n",
    "    content = match.group(1).strip()\n",
    "    lines = content.splitlines()\n",
    "    return '\\n'.join(re.sub(r'[A-Za-z]', '', line) for line in lines)\n",
    "\n",
    "def sanitize_filename(name):\n",
    "    return re.sub(r'[\\\\/:*?\"<>|]', \"\", name)"
   ]
  },
  {
   "cell_type": "code",
   "execution_count": null,
   "id": "eb77aeb4",
   "metadata": {},
   "outputs": [],
   "source": [
    "url = \"https://www.gutenberg.org/browse/languages/zh\"\n",
    "base_url = \"https://www.gutenberg.org\"\n",
    "headers = {\"User-Agent\": \"Mozilla/5.0\"}\n",
    "\n",
    "res = requests.get(url)\n",
    "soup = BeautifulSoup(res.text, \"html.parser\")\n",
    "\n",
    "link_tags = soup.select(\"li.pgdbetext > a[href]\")\n",
    "\n",
    "book_urls = [base_url + tag['href'] for tag in link_tags]\n",
    "book_titles = [tag.text.strip() for tag in link_tags]"
   ]
  },
  {
   "cell_type": "code",
   "execution_count": null,
   "id": "256fd00b",
   "metadata": {},
   "outputs": [],
   "source": [
    "index = 0\n",
    "target = 200\n",
    "\n",
    "while len([f for f in os.listdir(folder) if f.endswith('.txt')]) < target and index < len(book_titles):\n",
    "    title = book_titles[index]\n",
    "    book_url = book_urls[index]\n",
    "    index += 1\n",
    "\n",
    "    try:\n",
    "        if re.search(r'[A-Za-z]', title):\n",
    "            continue\n",
    "\n",
    "        print(f\"正在處理第 {index} 本書：{title}\")\n",
    "        res = requests.get(book_url, headers=headers, timeout=10)\n",
    "        soup = BeautifulSoup(res.text, \"html.parser\")\n",
    "        tag = soup.find(\"a\", string=\"Plain Text UTF-8\")\n",
    "        if not tag or not tag.has_attr(\"href\"):\n",
    "            continue\n",
    "\n",
    "        txt_url = base_url + tag[\"href\"]\n",
    "        txt_res = requests.get(txt_url, headers=headers, timeout=10)\n",
    "\n",
    "        book_body = extract_book_body(txt_res.text, title)\n",
    "        if len(book_body) < 100:\n",
    "            continue\n",
    "\n",
    "        filename = os.path.join(folder, f\"{sanitize_filename(title)}.txt\")\n",
    "        with open(filename, \"w\", encoding=\"utf-8\") as f:\n",
    "            f.write(book_body)\n",
    "\n",
    "        sleep(1)\n",
    "\n",
    "    except Exception as e:\n",
    "        print(f\"錯誤：{e}\")\n",
    "        continue\n",
    "\n",
    "print(f\"已完成，寫入檔案數：{len([f for f in os.listdir(folder) if f.endswith('.txt')])}\")"
   ]
  }
 ],
 "metadata": {
  "kernelspec": {
   "display_name": "Python 3",
   "language": "python",
   "name": "python3"
  },
  "language_info": {
   "codemirror_mode": {
    "name": "ipython",
    "version": 3
   },
   "file_extension": ".py",
   "mimetype": "text/x-python",
   "name": "python",
   "nbconvert_exporter": "python",
   "pygments_lexer": "ipython3",
   "version": "3.13.3"
  }
 },
 "nbformat": 4,
 "nbformat_minor": 5
}
